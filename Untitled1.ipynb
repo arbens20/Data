{
  "nbformat": 4,
  "nbformat_minor": 0,
  "metadata": {
    "colab": {
      "provenance": []
    },
    "kernelspec": {
      "name": "python3",
      "display_name": "Python 3"
    },
    "language_info": {
      "name": "python"
    }
  },
  "cells": [
    {
      "cell_type": "code",
      "execution_count": 3,
      "metadata": {
        "id": "q6QXnuUPDjMM"
      },
      "outputs": [],
      "source": [
        "import pandas as pd"
      ]
    },
    {
      "cell_type": "code",
      "source": [
        "import numpy as np"
      ],
      "metadata": {
        "id": "fE0Fpg9NJzxj"
      },
      "execution_count": 16,
      "outputs": []
    },
    {
      "cell_type": "code",
      "source": [
        "data = {\n",
        "    \"id\": [1, 2, 3, 4, 5, 6, 7, 8, 9, 10],\n",
        "    \"name\": [\"John Doe\", \"Jane Smith\", \"Alice Johnson\", \"Bob Brown\", \"Eve White\", \"Frank Black\", \"Charlie Green\", \"Daisy Blue\", \"George Red\", \"Hannah White\"],\n",
        "    \"birthdate\": [\"1987-05-24\", \"1992-08-17\", \"April 4 1985\", \"03/12/1990\", \"1995-07-30\", None, \"1991-09-05\", \"August 14 1990\", \"01-12-1983\", \"1984/05/06\"],\n",
        "    \"purchase_date\": [\"2021/12/01\", \"12-15-2021\", \"2020-05-21\", \"21 May 2020\", \"2022-01-03\", \"2020-07-15\", \"Not Available\", \"14-08-2021\", \"01/12/21\", \"15/Dec/2021\"],\n",
        "    \"amount_paid\": [\"$1 234.56\", \"USD 999.99\", \"Â£750\", \"1300â‚¬\", \"â‚¹800\", \"1500\", \"45.67 USD\", \"$2 0.5\", \"1750 CAD\", \"Â¥200000\"],\n",
        "    \"email\": [\"john.doe@example.com\", \"jane.smith#example.com\", \"alice@example.co.uk\", \"bob.brown at example.com\", \"eve.white@example.com\", \"frank@example.com\", \"charlie.green@example.com\", \"daisy.blue[at]example.com\", \"george.red@example.com\", \"hannah.white@example.com\"]\n",
        "}"
      ],
      "metadata": {
        "id": "Kkn-QXkPJ4Di"
      },
      "execution_count": 17,
      "outputs": []
    },
    {
      "cell_type": "code",
      "source": [
        "\n",
        "df = pd.DataFrame(data)"
      ],
      "metadata": {
        "id": "Bxs5EViGJ7d2"
      },
      "execution_count": 18,
      "outputs": []
    },
    {
      "cell_type": "code",
      "source": [
        "def clean_amount(amount):\n",
        "\n",
        "    if pd.isna(amount):\n",
        "        return np.nan\n",
        "    clean = ''.join(char for char in amount if char.isdigit() or char == '.' or char == ',' or char == '¹')  # Ajouter '¹' aux caractères acceptés\n",
        "    return float(clean.replace(',', '').replace('¹', ''))\n",
        "\n"
      ],
      "metadata": {
        "id": "T5RpFWS2KBdk"
      },
      "execution_count": 19,
      "outputs": []
    },
    {
      "cell_type": "code",
      "source": [
        "\n",
        "df['birthdate'] = pd.to_datetime(df['birthdate'], errors='coerce')\n"
      ],
      "metadata": {
        "id": "k3tITKy4KR4T"
      },
      "execution_count": 20,
      "outputs": []
    },
    {
      "cell_type": "code",
      "source": [
        "df['purchase_date'] = pd.to_datetime(df['purchase_date'], errors='coerce')\n"
      ],
      "metadata": {
        "id": "zbGuHH4AKWT5"
      },
      "execution_count": 21,
      "outputs": []
    },
    {
      "cell_type": "code",
      "source": [
        "df['amount_paid'] = df['amount_paid'].apply(clean_amount)\n"
      ],
      "metadata": {
        "id": "DTsiORY7KZxN"
      },
      "execution_count": 22,
      "outputs": []
    },
    {
      "cell_type": "code",
      "source": [
        "\n",
        "print(df)"
      ],
      "metadata": {
        "colab": {
          "base_uri": "https://localhost:8080/"
        },
        "id": "c1ALInm5KdlH",
        "outputId": "d2616f0e-6ee0-4401-8908-b82aa637668c"
      },
      "execution_count": 23,
      "outputs": [
        {
          "output_type": "stream",
          "name": "stdout",
          "text": [
            "   id           name  birthdate purchase_date  amount_paid  \\\n",
            "0   1       John Doe 1987-05-24    2021-12-01      1234.56   \n",
            "1   2     Jane Smith 1992-08-17           NaT       999.99   \n",
            "2   3  Alice Johnson        NaT           NaT       750.00   \n",
            "3   4      Bob Brown        NaT           NaT      1300.00   \n",
            "4   5      Eve White 1995-07-30           NaT       800.00   \n",
            "5   6    Frank Black        NaT           NaT      1500.00   \n",
            "6   7  Charlie Green 1991-09-05           NaT        45.67   \n",
            "7   8     Daisy Blue        NaT           NaT        20.50   \n",
            "8   9     George Red        NaT           NaT      1750.00   \n",
            "9  10   Hannah White        NaT           NaT    200000.00   \n",
            "\n",
            "                       email  \n",
            "0       john.doe@example.com  \n",
            "1     jane.smith#example.com  \n",
            "2        alice@example.co.uk  \n",
            "3   bob.brown at example.com  \n",
            "4      eve.white@example.com  \n",
            "5          frank@example.com  \n",
            "6  charlie.green@example.com  \n",
            "7  daisy.blue[at]example.com  \n",
            "8     george.red@example.com  \n",
            "9   hannah.white@example.com  \n"
          ]
        }
      ]
    }
  ]
}